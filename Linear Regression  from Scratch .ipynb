{
 "cells": [
  {
   "cell_type": "markdown",
   "id": "39f0849b",
   "metadata": {},
   "source": [
    "# Calculate min Cost Function for Linear Regression "
   ]
  },
  {
   "cell_type": "code",
   "execution_count": 31,
   "id": "af251522",
   "metadata": {},
   "outputs": [],
   "source": [
    "import numpy as np \n",
    "import pandas as pd "
   ]
  },
  {
   "cell_type": "markdown",
   "id": "b9b5bdbd",
   "metadata": {},
   "source": [
    "# Cost Function"
   ]
  },
  {
   "cell_type": "code",
   "execution_count": 32,
   "id": "497d316b",
   "metadata": {},
   "outputs": [],
   "source": [
    "def cost_function(y,y_pred):\n",
    "    mag = []\n",
    "    for i in range(0,len(y)):\n",
    "        t = (y[i]-y_pred[i])**2\n",
    "        mag.append(t)\n",
    "    mag_ = np.array(mag)\n",
    "    cost = (mag_.mean())/ 2 \n",
    "    \n",
    "    return cost"
   ]
  },
  {
   "cell_type": "markdown",
   "id": "bba6ba2d",
   "metadata": {},
   "source": [
    "# Linear Regression Algo Function "
   ]
  },
  {
   "cell_type": "code",
   "execution_count": 33,
   "id": "933271d5",
   "metadata": {},
   "outputs": [],
   "source": [
    "def act_func(x,*args):\n",
    "    y_pred = []\n",
    "    for i in x :\n",
    "        f = w * i + b\n",
    "        y_pred.append(f)\n",
    "    return y_pred\n",
    "    "
   ]
  },
  {
   "cell_type": "markdown",
   "id": "87944696",
   "metadata": {},
   "source": [
    "# Updated on the Weight "
   ]
  },
  {
   "cell_type": "code",
   "execution_count": 34,
   "id": "bd95c4bd",
   "metadata": {},
   "outputs": [],
   "source": [
    "def grad_des_w(w,y,y_pred,alpha , x):\n",
    "    __ = []\n",
    "    for i in range(len(y)):\n",
    "        _ = (y[i]-y_pred[i])\n",
    "        __.append(_)\n",
    "    j = np.array(__) # y_pred - y \n",
    "    x = np.array(x) # input \n",
    "    z = []\n",
    "    for t in range(len(x)):\n",
    "        z.append(j[i]*x[i])\n",
    "    z_ = np.array(z) # (y_pred - y ) * x \n",
    "   \n",
    "    w = w - alpha * (z_.mean())\n",
    "    return b \n"
   ]
  },
  {
   "cell_type": "markdown",
   "id": "51ef7588",
   "metadata": {},
   "source": [
    "# Updated on the Bias "
   ]
  },
  {
   "cell_type": "code",
   "execution_count": 35,
   "id": "d97319e2",
   "metadata": {},
   "outputs": [],
   "source": [
    "def grad_des_b(b,y,y_pred,alpha):\n",
    "    __ = []\n",
    "    for i in range(len(y)):\n",
    "        _ = (y[i]-y_pred[i])\n",
    "        __.append(_)\n",
    "    j = np.array(__) # y_pred - y \n",
    "        \n",
    "    b = b - alpha * (j.mean())\n",
    "    return b \n"
   ]
  },
  {
   "cell_type": "markdown",
   "id": "36a0e33d",
   "metadata": {},
   "source": [
    "# Coding Program"
   ]
  },
  {
   "cell_type": "code",
   "execution_count": 36,
   "id": "8304aeca",
   "metadata": {},
   "outputs": [],
   "source": [
    "y = [135,130,110,95,90]\n",
    "x = [100,95,90,80,80]\n",
    "w = 20\n",
    "b = 10\n",
    "alpha = 0.001"
   ]
  },
  {
   "cell_type": "code",
   "execution_count": 43,
   "id": "48f70438",
   "metadata": {},
   "outputs": [
    {
     "name": "stdout",
     "output_type": "stream",
     "text": [
      "Total Cost We Calculated is :  [114578822.46094151, 134430499.286004, 157721550.69630006, 185047853.6946217, 217108521.31653658, 254723788.28360048]\n",
      "The Accuracy of The model is :  114578822.46094151\n"
     ]
    }
   ],
   "source": [
    "cost_upd =[]\n",
    "while len(cost_upd) <= 5:\n",
    "    w = grad_des_w(w,y,y_pred,alpha,x)\n",
    "    b = grad_des_b(b,y,y_pred,alpha)\n",
    "    y_pred = act_func(x,w,b)\n",
    "    cost = cost_function(y,y_pred)\n",
    "    cost_upd.append(cost)\n",
    "else : \n",
    "    cost_val = np.array(cost_upd).min()\n",
    "    print(\"Total Cost We Calculated is : \" , cost_upd)\n",
    "    print('The Accuracy of The model is : ' , cost_val)"
   ]
  }
 ],
 "metadata": {
  "kernelspec": {
   "display_name": "Python 3 (ipykernel)",
   "language": "python",
   "name": "python3"
  },
  "language_info": {
   "codemirror_mode": {
    "name": "ipython",
    "version": 3
   },
   "file_extension": ".py",
   "mimetype": "text/x-python",
   "name": "python",
   "nbconvert_exporter": "python",
   "pygments_lexer": "ipython3",
   "version": "3.9.12"
  }
 },
 "nbformat": 4,
 "nbformat_minor": 5
}
